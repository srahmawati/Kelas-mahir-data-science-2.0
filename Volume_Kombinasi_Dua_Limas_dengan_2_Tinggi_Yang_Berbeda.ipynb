{
  "nbformat": 4,
  "nbformat_minor": 0,
  "metadata": {
    "colab": {
      "name": "Volume Kombinasi Dua Limas dengan 2 Tinggi Yang Berbeda.ipynb",
      "provenance": [],
      "collapsed_sections": [],
      "include_colab_link": true
    },
    "kernelspec": {
      "name": "python3",
      "display_name": "Python 3"
    }
  },
  "cells": [
    {
      "cell_type": "markdown",
      "metadata": {
        "id": "view-in-github",
        "colab_type": "text"
      },
      "source": [
        "<a href=\"https://colab.research.google.com/github/srahmawati/Pusat-Studi-Data-Sains-UAD/blob/main/Volume_Kombinasi_Dua_Limas_dengan_2_Tinggi_Yang_Berbeda.ipynb\" target=\"_parent\"><img src=\"https://colab.research.google.com/assets/colab-badge.svg\" alt=\"Open In Colab\"/></a>"
      ]
    },
    {
      "cell_type": "markdown",
      "metadata": {
        "id": "mpg5tT0r9_ZR"
      },
      "source": [
        "#Modul Python Volume Kombinasi Dua Limas dengan 2 Tinggi Yang Berbeda"
      ]
    },
    {
      "cell_type": "markdown",
      "metadata": {
        "id": "L0fT9jXWBRpz"
      },
      "source": [
        "Kolom 1 | kolom 2\r\n",
        "-------|----------\r\n",
        "Nama | St Rahmawati\r\n",
        "NIM  | 1900015039\r\n",
        "Semester | 5"
      ]
    },
    {
      "cell_type": "code",
      "metadata": {
        "colab": {
          "base_uri": "https://localhost:8080/"
        },
        "id": "mBXAuMg_4Y_K",
        "outputId": "90c148be-7e94-4934-fc30-34206fa56e9c"
      },
      "source": [
        "#A =sisi kubus dan sisi alas limas\r\n",
        "#T = tinggi limas\r\n",
        "#Disini limas memiliki bentuk alas persegi.\r\n",
        "print(\"Disini limas memiliki bentuk alas persegi\")\r\n",
        "A = float(input(\"Masukkan panjang sisi : \"))\r\n",
        "T = float(input(\"Masukkan tinggi limas : \"))\r\n",
        "\r\n",
        "def volume_limas(A):\r\n",
        "   Volume = 1/3*A*A*T\r\n",
        "   return Volume\r\n",
        "\r\n",
        "print(\"Disini limas memiliki bentuk alas persegi\")\r\n",
        "A = float(input(\"Masukkan panjang sisi : \"))\r\n",
        "T = float(input(\"Masukkan tinggi limas : \"))\r\n",
        "\r\n",
        "def volume_limas(T):\r\n",
        "   Volume = (1/3)*A*A*T\r\n",
        "   return Volume\r\n",
        "\r\n",
        "def volume_total(A,T):\r\n",
        "   v1 = volume_limas(A)\r\n",
        "   v2 = volume_limas(A)\r\n",
        "   Volume = v1+v2\r\n",
        "   return Volume\r\n",
        "print(\"Maka Volume Kombinasinya adalah : \", volume_total(A,T))"
      ],
      "execution_count": 20,
      "outputs": [
        {
          "output_type": "stream",
          "text": [
            "Disini limas memiliki bentuk alas persegi\n",
            "Masukkan panjang sisi : 4\n",
            "Masukkan tinggi limas : 5\n",
            "Disini limas memiliki bentuk alas persegi\n",
            "Masukkan panjang sisi : 4\n",
            "Masukkan tinggi limas : 6\n",
            "Maka Volume Kombinasinya adalah :  42.666666666666664\n"
          ],
          "name": "stdout"
        }
      ]
    }
  ]
}